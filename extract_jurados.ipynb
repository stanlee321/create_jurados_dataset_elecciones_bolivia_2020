{
 "metadata": {
  "language_info": {
   "codemirror_mode": {
    "name": "ipython",
    "version": 3
   },
   "file_extension": ".py",
   "mimetype": "text/x-python",
   "name": "python",
   "nbconvert_exporter": "python",
   "pygments_lexer": "ipython3",
   "version": "3.7.4-final"
  },
  "orig_nbformat": 2,
  "kernelspec": {
   "name": "python37464bittwitterscraperconda23466e448b93443188f106bcd48e74e2",
   "display_name": "Python 3.7.4 64-bit ('twitter-scraper': conda)"
  }
 },
 "nbformat": 4,
 "nbformat_minor": 2,
 "cells": [
  {
   "cell_type": "code",
   "execution_count": 105,
   "metadata": {
    "tags": []
   },
   "outputs": [
    {
     "output_type": "stream",
     "name": "stdout",
     "text": "3072\n"
    },
    {
     "output_type": "execute_result",
     "data": {
      "text/plain": "  Unnamed: 0                      Unnamed: 1  \\\n0        NaN                             NaN   \n1        NaN                             NaN   \n2        NaN                             NaN   \n3        NaN                             NaN   \n4      País:                         Bolivia   \n5         N°             Apellidos y Nombres   \n6          1       ABALO LUQUE  JUDITH NANCY   \n7          2            ABALOS CHOQUE  MANCY   \n8          3  ABALOS QUISPE  MARUJA MERCEDES   \n9          4    ABARIOJO YUCO  MARCO ANTONIO   \n\n              ESTADO PLURINACIONAL DE BOLIVIA                      Unnamed: 2  \\\n0              ÓRGANO ELECTORAL PLURINACIONAL                             NaN   \n1  Tribunal Electoral Departamental de La Paz                             NaN   \n2                   Elecciones Generales 2020                             NaN   \n3                       18 de Octubre de 2020                             NaN   \n4             LISTADO  DE JURADOS ELECTORALES                             NaN   \n5                 Doc. de Identidad Municipio                         Recinto   \n6                          I  9102281 El Alto     Col. Rotary Chuquiago Marca   \n7                          I  4960747 El Alto  Unidad Educativa Juan Capriles   \n8                          I  4943746 El Alto                     Col. Tunari   \n9         I  1939274 Nuestra Señora de La Paz                 Col. Cristo Rey   \n\n  Unnamed: 3 Unnamed: 4  Unnamed: 5  \n0        NaN        NaN         NaN  \n1        NaN        NaN         NaN  \n2        NaN        NaN         NaN  \n3        NaN        NaN         NaN  \n4        NaN        NaN         NaN  \n5        NaN       Mesa         NaN  \n6        NaN        NaN         1.0  \n7        NaN        NaN         1.0  \n8        NaN        NaN         1.0  \n9        NaN        NaN         1.0  ",
      "text/html": "<div>\n<style scoped>\n    .dataframe tbody tr th:only-of-type {\n        vertical-align: middle;\n    }\n\n    .dataframe tbody tr th {\n        vertical-align: top;\n    }\n\n    .dataframe thead th {\n        text-align: right;\n    }\n</style>\n<table border=\"1\" class=\"dataframe\">\n  <thead>\n    <tr style=\"text-align: right;\">\n      <th></th>\n      <th>Unnamed: 0</th>\n      <th>Unnamed: 1</th>\n      <th>ESTADO PLURINACIONAL DE BOLIVIA</th>\n      <th>Unnamed: 2</th>\n      <th>Unnamed: 3</th>\n      <th>Unnamed: 4</th>\n      <th>Unnamed: 5</th>\n    </tr>\n  </thead>\n  <tbody>\n    <tr>\n      <th>0</th>\n      <td>NaN</td>\n      <td>NaN</td>\n      <td>ÓRGANO ELECTORAL PLURINACIONAL</td>\n      <td>NaN</td>\n      <td>NaN</td>\n      <td>NaN</td>\n      <td>NaN</td>\n    </tr>\n    <tr>\n      <th>1</th>\n      <td>NaN</td>\n      <td>NaN</td>\n      <td>Tribunal Electoral Departamental de La Paz</td>\n      <td>NaN</td>\n      <td>NaN</td>\n      <td>NaN</td>\n      <td>NaN</td>\n    </tr>\n    <tr>\n      <th>2</th>\n      <td>NaN</td>\n      <td>NaN</td>\n      <td>Elecciones Generales 2020</td>\n      <td>NaN</td>\n      <td>NaN</td>\n      <td>NaN</td>\n      <td>NaN</td>\n    </tr>\n    <tr>\n      <th>3</th>\n      <td>NaN</td>\n      <td>NaN</td>\n      <td>18 de Octubre de 2020</td>\n      <td>NaN</td>\n      <td>NaN</td>\n      <td>NaN</td>\n      <td>NaN</td>\n    </tr>\n    <tr>\n      <th>4</th>\n      <td>País:</td>\n      <td>Bolivia</td>\n      <td>LISTADO  DE JURADOS ELECTORALES</td>\n      <td>NaN</td>\n      <td>NaN</td>\n      <td>NaN</td>\n      <td>NaN</td>\n    </tr>\n    <tr>\n      <th>5</th>\n      <td>N°</td>\n      <td>Apellidos y Nombres</td>\n      <td>Doc. de Identidad Municipio</td>\n      <td>Recinto</td>\n      <td>NaN</td>\n      <td>Mesa</td>\n      <td>NaN</td>\n    </tr>\n    <tr>\n      <th>6</th>\n      <td>1</td>\n      <td>ABALO LUQUE  JUDITH NANCY</td>\n      <td>I  9102281 El Alto</td>\n      <td>Col. Rotary Chuquiago Marca</td>\n      <td>NaN</td>\n      <td>NaN</td>\n      <td>1.0</td>\n    </tr>\n    <tr>\n      <th>7</th>\n      <td>2</td>\n      <td>ABALOS CHOQUE  MANCY</td>\n      <td>I  4960747 El Alto</td>\n      <td>Unidad Educativa Juan Capriles</td>\n      <td>NaN</td>\n      <td>NaN</td>\n      <td>1.0</td>\n    </tr>\n    <tr>\n      <th>8</th>\n      <td>3</td>\n      <td>ABALOS QUISPE  MARUJA MERCEDES</td>\n      <td>I  4943746 El Alto</td>\n      <td>Col. Tunari</td>\n      <td>NaN</td>\n      <td>NaN</td>\n      <td>1.0</td>\n    </tr>\n    <tr>\n      <th>9</th>\n      <td>4</td>\n      <td>ABARIOJO YUCO  MARCO ANTONIO</td>\n      <td>I  1939274 Nuestra Señora de La Paz</td>\n      <td>Col. Cristo Rey</td>\n      <td>NaN</td>\n      <td>NaN</td>\n      <td>1.0</td>\n    </tr>\n  </tbody>\n</table>\n</div>"
     },
     "metadata": {},
     "execution_count": 105
    }
   ],
   "source": [
    "from tabula import read_pdf\n",
    "\n",
    "dfs = read_pdf(\"jurados.pdf\", pages=\"all\", guess=False,\n",
    ")\n",
    "\n",
    "print(len(dfs))\n",
    "dfs[0].head(n=10)\n"
   ]
  },
  {
   "cell_type": "code",
   "execution_count": 106,
   "metadata": {},
   "outputs": [],
   "source": [
    "dfs_dev = dfs.copy()"
   ]
  },
  {
   "cell_type": "code",
   "execution_count": 107,
   "metadata": {},
   "outputs": [
    {
     "output_type": "execute_result",
     "data": {
      "text/plain": "5   N°             Apellidos y Nombres          Doc. de Identidad Municipio  \\\n6   19       ABUNA POMA  ROCIO MARIELA                   I  6793677 El Alto   \n7   20        ACAHUANA CHALLCO  ROXANA  I  8307085 Nuestra Señora de La Paz   \n8   21          ACAHUANA CONDORI  ROSA                  I  10081063 El Alto   \n9   22   ACAHUANA CUYUÑA  ROSA ROSMERY  I  6073590 Nuestra Señora de La Paz   \n10  23  ACAHUANA HUANCA  WENDDY NATALY  I  8332893 Nuestra Señora de La Paz   \n\n5                              Recinto  NaN Mesa  NaN  \n6               Esc. Bolivar Municipal  NaN  NaN  1.0  \n7       Colegio  Adolfo  Costa Du Rels  NaN  NaN  1.0  \n8   Unidad Educativa Republica de Cuba  NaN  NaN  1.0  \n9                      Colegio Holanda  NaN  NaN  1.0  \n10              Instituto Mendez Arcos  NaN  NaN  1.0  ",
      "text/html": "<div>\n<style scoped>\n    .dataframe tbody tr th:only-of-type {\n        vertical-align: middle;\n    }\n\n    .dataframe tbody tr th {\n        vertical-align: top;\n    }\n\n    .dataframe thead th {\n        text-align: right;\n    }\n</style>\n<table border=\"1\" class=\"dataframe\">\n  <thead>\n    <tr style=\"text-align: right;\">\n      <th>5</th>\n      <th>N°</th>\n      <th>Apellidos y Nombres</th>\n      <th>Doc. de Identidad Municipio</th>\n      <th>Recinto</th>\n      <th>NaN</th>\n      <th>Mesa</th>\n      <th>NaN</th>\n    </tr>\n  </thead>\n  <tbody>\n    <tr>\n      <th>6</th>\n      <td>19</td>\n      <td>ABUNA POMA  ROCIO MARIELA</td>\n      <td>I  6793677 El Alto</td>\n      <td>Esc. Bolivar Municipal</td>\n      <td>NaN</td>\n      <td>NaN</td>\n      <td>1.0</td>\n    </tr>\n    <tr>\n      <th>7</th>\n      <td>20</td>\n      <td>ACAHUANA CHALLCO  ROXANA</td>\n      <td>I  8307085 Nuestra Señora de La Paz</td>\n      <td>Colegio  Adolfo  Costa Du Rels</td>\n      <td>NaN</td>\n      <td>NaN</td>\n      <td>1.0</td>\n    </tr>\n    <tr>\n      <th>8</th>\n      <td>21</td>\n      <td>ACAHUANA CONDORI  ROSA</td>\n      <td>I  10081063 El Alto</td>\n      <td>Unidad Educativa Republica de Cuba</td>\n      <td>NaN</td>\n      <td>NaN</td>\n      <td>1.0</td>\n    </tr>\n    <tr>\n      <th>9</th>\n      <td>22</td>\n      <td>ACAHUANA CUYUÑA  ROSA ROSMERY</td>\n      <td>I  6073590 Nuestra Señora de La Paz</td>\n      <td>Colegio Holanda</td>\n      <td>NaN</td>\n      <td>NaN</td>\n      <td>1.0</td>\n    </tr>\n    <tr>\n      <th>10</th>\n      <td>23</td>\n      <td>ACAHUANA HUANCA  WENDDY NATALY</td>\n      <td>I  8332893 Nuestra Señora de La Paz</td>\n      <td>Instituto Mendez Arcos</td>\n      <td>NaN</td>\n      <td>NaN</td>\n      <td>1.0</td>\n    </tr>\n  </tbody>\n</table>\n</div>"
     },
     "metadata": {},
     "execution_count": 107
    }
   ],
   "source": [
    "df = dfs_dev[1].iloc[5:]\n",
    "df.columns = df.iloc[0]\n",
    "df = df[1:]\n",
    "df.head()"
   ]
  },
  {
   "cell_type": "code",
   "execution_count": 108,
   "metadata": {},
   "outputs": [],
   "source": [
    "df[[\"PREFIX - Doc. de Identidad\", \"Doc. de Identidad\", \"Municipio\"]] = df[\"Doc. de Identidad Municipio\"].str.split(r\"\\b(\\d+)\", expand=True)\n"
   ]
  },
  {
   "source": [
    "There is two nan values in column name"
   ],
   "cell_type": "markdown",
   "metadata": {}
  },
  {
   "cell_type": "code",
   "execution_count": 109,
   "metadata": {
    "tags": []
   },
   "outputs": [
    {
     "output_type": "stream",
     "name": "stdout",
     "text": "<class 'str'> N°\n<class 'str'> Apellidos y Nombres\n<class 'str'> Doc. de Identidad Municipio\n<class 'str'> Recinto\n<class 'float'> nan\n<class 'str'> Mesa\n<class 'numpy.float64'> nan\n<class 'str'> PREFIX - Doc. de Identidad\n<class 'str'> Doc. de Identidad\n<class 'str'> Municipio\n"
    }
   ],
   "source": [
    "for c in df.columns:\n",
    "    print(type(c), c)"
   ]
  },
  {
   "cell_type": "code",
   "execution_count": 92,
   "metadata": {},
   "outputs": [],
   "source": [
    "import pandas as pd"
   ]
  },
  {
   "cell_type": "code",
   "execution_count": 110,
   "metadata": {
    "tags": []
   },
   "outputs": [],
   "source": [
    "# Fill the nan values in column names\n",
    "\n",
    "# List hte actual column names\n",
    "df_names_to_fix = pd.Series(df.columns)\n",
    "\n",
    "# Create a new list with fixed column names\n",
    "df_names_fixed = df_names_to_fix.fillna('unnamed:' + (df_names_to_fix.groupby(df_names_to_fix.isnull()).cumcount() + 1).astype(str))\n",
    "\n",
    "# Set the new column names to the test dataframe\n",
    "df.columns  = df_names_fixed\n"
   ]
  },
  {
   "cell_type": "code",
   "execution_count": 112,
   "metadata": {
    "tags": []
   },
   "outputs": [
    {
     "output_type": "stream",
     "name": "stdout",
     "text": "<class 'str'> N°\n<class 'str'> Apellidos y Nombres\n<class 'str'> Doc. de Identidad Municipio\n<class 'str'> Recinto\n<class 'str'> unnamed:1\n<class 'str'> Mesa\n<class 'str'> unnamed:2\n<class 'str'> PREFIX - Doc. de Identidad\n<class 'str'> Doc. de Identidad\n<class 'str'> Municipio\n"
    }
   ],
   "source": [
    "for c in df.columns:\n",
    "    print(type(c), c)"
   ]
  },
  {
   "cell_type": "code",
   "execution_count": 111,
   "metadata": {},
   "outputs": [
    {
     "output_type": "execute_result",
     "data": {
      "text/plain": "2 de    1\nName: unnamed:1, dtype: int64"
     },
     "metadata": {},
     "execution_count": 111
    }
   ],
   "source": [
    "df[\"unnamed:1\"].value_counts()"
   ]
  },
  {
   "cell_type": "code",
   "execution_count": 84,
   "metadata": {},
   "outputs": [
    {
     "output_type": "execute_result",
     "data": {
      "text/plain": "5  N°               Apellidos y Nombres          Doc. de Identidad Municipio  \\\n6   1         ABALO LUQUE  JUDITH NANCY                   I  9102281 El Alto   \n7   2              ABALOS CHOQUE  MANCY                   I  4960747 El Alto   \n8   3    ABALOS QUISPE  MARUJA MERCEDES                   I  4943746 El Alto   \n9   4      ABARIOJO YUCO  MARCO ANTONIO  I  1939274 Nuestra Señora de La Paz   \n10  5  ABASTO ARANIBAR  MAURICIO WILSON  I  9196248 Nuestra Señora de La Paz   \n\n5                          Recinto  Mesa_Aux Mesa  Mesa_Aux  \\\n6      Col. Rotary Chuquiago Marca       NaN  NaN       1.0   \n7   Unidad Educativa Juan Capriles       NaN  NaN       1.0   \n8                      Col. Tunari       NaN  NaN       1.0   \n9                  Col. Cristo Rey       NaN  NaN       1.0   \n10            Colegio Dora Schmidt       NaN  NaN       1.0   \n\n5  PREFIX - Doc. de Identidad Doc. de Identidad                  Municipio  \n6                         I             9102281                    El Alto  \n7                         I             4960747                    El Alto  \n8                         I             4943746                    El Alto  \n9                         I             1939274   Nuestra Señora de La Paz  \n10                        I             9196248   Nuestra Señora de La Paz  ",
      "text/html": "<div>\n<style scoped>\n    .dataframe tbody tr th:only-of-type {\n        vertical-align: middle;\n    }\n\n    .dataframe tbody tr th {\n        vertical-align: top;\n    }\n\n    .dataframe thead th {\n        text-align: right;\n    }\n</style>\n<table border=\"1\" class=\"dataframe\">\n  <thead>\n    <tr style=\"text-align: right;\">\n      <th>5</th>\n      <th>N°</th>\n      <th>Apellidos y Nombres</th>\n      <th>Doc. de Identidad Municipio</th>\n      <th>Recinto</th>\n      <th>Mesa_Aux</th>\n      <th>Mesa</th>\n      <th>Mesa_Aux</th>\n      <th>PREFIX - Doc. de Identidad</th>\n      <th>Doc. de Identidad</th>\n      <th>Municipio</th>\n    </tr>\n  </thead>\n  <tbody>\n    <tr>\n      <th>6</th>\n      <td>1</td>\n      <td>ABALO LUQUE  JUDITH NANCY</td>\n      <td>I  9102281 El Alto</td>\n      <td>Col. Rotary Chuquiago Marca</td>\n      <td>NaN</td>\n      <td>NaN</td>\n      <td>1.0</td>\n      <td>I</td>\n      <td>9102281</td>\n      <td>El Alto</td>\n    </tr>\n    <tr>\n      <th>7</th>\n      <td>2</td>\n      <td>ABALOS CHOQUE  MANCY</td>\n      <td>I  4960747 El Alto</td>\n      <td>Unidad Educativa Juan Capriles</td>\n      <td>NaN</td>\n      <td>NaN</td>\n      <td>1.0</td>\n      <td>I</td>\n      <td>4960747</td>\n      <td>El Alto</td>\n    </tr>\n    <tr>\n      <th>8</th>\n      <td>3</td>\n      <td>ABALOS QUISPE  MARUJA MERCEDES</td>\n      <td>I  4943746 El Alto</td>\n      <td>Col. Tunari</td>\n      <td>NaN</td>\n      <td>NaN</td>\n      <td>1.0</td>\n      <td>I</td>\n      <td>4943746</td>\n      <td>El Alto</td>\n    </tr>\n    <tr>\n      <th>9</th>\n      <td>4</td>\n      <td>ABARIOJO YUCO  MARCO ANTONIO</td>\n      <td>I  1939274 Nuestra Señora de La Paz</td>\n      <td>Col. Cristo Rey</td>\n      <td>NaN</td>\n      <td>NaN</td>\n      <td>1.0</td>\n      <td>I</td>\n      <td>1939274</td>\n      <td>Nuestra Señora de La Paz</td>\n    </tr>\n    <tr>\n      <th>10</th>\n      <td>5</td>\n      <td>ABASTO ARANIBAR  MAURICIO WILSON</td>\n      <td>I  9196248 Nuestra Señora de La Paz</td>\n      <td>Colegio Dora Schmidt</td>\n      <td>NaN</td>\n      <td>NaN</td>\n      <td>1.0</td>\n      <td>I</td>\n      <td>9196248</td>\n      <td>Nuestra Señora de La Paz</td>\n    </tr>\n  </tbody>\n</table>\n</div>"
     },
     "metadata": {},
     "execution_count": 84
    }
   ],
   "source": [
    "df.head()"
   ]
  },
  {
   "cell_type": "code",
   "execution_count": 113,
   "metadata": {},
   "outputs": [],
   "source": [
    "df[\"Mesa\"] = df[\"unnamed:2\"]"
   ]
  },
  {
   "cell_type": "code",
   "execution_count": 115,
   "metadata": {},
   "outputs": [],
   "source": [
    "df.drop(columns=[\"Doc. de Identidad Municipio\", \"unnamed:2\"], inplace=True)"
   ]
  },
  {
   "cell_type": "code",
   "execution_count": 116,
   "metadata": {},
   "outputs": [
    {
     "output_type": "execute_result",
     "data": {
      "text/plain": "5   N°             Apellidos y Nombres                             Recinto  \\\n6   19       ABUNA POMA  ROCIO MARIELA              Esc. Bolivar Municipal   \n7   20        ACAHUANA CHALLCO  ROXANA      Colegio  Adolfo  Costa Du Rels   \n8   21          ACAHUANA CONDORI  ROSA  Unidad Educativa Republica de Cuba   \n9   22   ACAHUANA CUYUÑA  ROSA ROSMERY                     Colegio Holanda   \n10  23  ACAHUANA HUANCA  WENDDY NATALY              Instituto Mendez Arcos   \n\n5  unnamed:1  Mesa PREFIX - Doc. de Identidad Doc. de Identidad  \\\n6        NaN   1.0                        I             6793677   \n7        NaN   1.0                        I             8307085   \n8        NaN   1.0                        I            10081063   \n9        NaN   1.0                        I             6073590   \n10       NaN   1.0                        I             8332893   \n\n5                   Municipio  \n6                     El Alto  \n7    Nuestra Señora de La Paz  \n8                     El Alto  \n9    Nuestra Señora de La Paz  \n10   Nuestra Señora de La Paz  ",
      "text/html": "<div>\n<style scoped>\n    .dataframe tbody tr th:only-of-type {\n        vertical-align: middle;\n    }\n\n    .dataframe tbody tr th {\n        vertical-align: top;\n    }\n\n    .dataframe thead th {\n        text-align: right;\n    }\n</style>\n<table border=\"1\" class=\"dataframe\">\n  <thead>\n    <tr style=\"text-align: right;\">\n      <th>5</th>\n      <th>N°</th>\n      <th>Apellidos y Nombres</th>\n      <th>Recinto</th>\n      <th>unnamed:1</th>\n      <th>Mesa</th>\n      <th>PREFIX - Doc. de Identidad</th>\n      <th>Doc. de Identidad</th>\n      <th>Municipio</th>\n    </tr>\n  </thead>\n  <tbody>\n    <tr>\n      <th>6</th>\n      <td>19</td>\n      <td>ABUNA POMA  ROCIO MARIELA</td>\n      <td>Esc. Bolivar Municipal</td>\n      <td>NaN</td>\n      <td>1.0</td>\n      <td>I</td>\n      <td>6793677</td>\n      <td>El Alto</td>\n    </tr>\n    <tr>\n      <th>7</th>\n      <td>20</td>\n      <td>ACAHUANA CHALLCO  ROXANA</td>\n      <td>Colegio  Adolfo  Costa Du Rels</td>\n      <td>NaN</td>\n      <td>1.0</td>\n      <td>I</td>\n      <td>8307085</td>\n      <td>Nuestra Señora de La Paz</td>\n    </tr>\n    <tr>\n      <th>8</th>\n      <td>21</td>\n      <td>ACAHUANA CONDORI  ROSA</td>\n      <td>Unidad Educativa Republica de Cuba</td>\n      <td>NaN</td>\n      <td>1.0</td>\n      <td>I</td>\n      <td>10081063</td>\n      <td>El Alto</td>\n    </tr>\n    <tr>\n      <th>9</th>\n      <td>22</td>\n      <td>ACAHUANA CUYUÑA  ROSA ROSMERY</td>\n      <td>Colegio Holanda</td>\n      <td>NaN</td>\n      <td>1.0</td>\n      <td>I</td>\n      <td>6073590</td>\n      <td>Nuestra Señora de La Paz</td>\n    </tr>\n    <tr>\n      <th>10</th>\n      <td>23</td>\n      <td>ACAHUANA HUANCA  WENDDY NATALY</td>\n      <td>Instituto Mendez Arcos</td>\n      <td>NaN</td>\n      <td>1.0</td>\n      <td>I</td>\n      <td>8332893</td>\n      <td>Nuestra Señora de La Paz</td>\n    </tr>\n  </tbody>\n</table>\n</div>"
     },
     "metadata": {},
     "execution_count": 116
    }
   ],
   "source": [
    "df.head()"
   ]
  },
  {
   "cell_type": "code",
   "execution_count": null,
   "metadata": {},
   "outputs": [],
   "source": [
    "print(len(dfs_list))\n",
    "dfs_list[0].to_csv(\"output_tabula.csv\", index=False)"
   ]
  },
  {
   "cell_type": "code",
   "execution_count": null,
   "metadata": {},
   "outputs": [],
   "source": [
    "## Condensate everything into a function"
   ]
  },
  {
   "cell_type": "code",
   "execution_count": 72,
   "metadata": {},
   "outputs": [],
   "source": [
    "def create_fixed_column_names(df_column_names):\n",
    "    \"\"\"\n",
    "    Create a clean column names, where nan are replace by unnamed:X value, where\n",
    "    X is an index for each nan value found.\n",
    "    \"\"\"\n",
    "    # List hte actual column names\n",
    "    df_names_to_fix = pd.Series(df_column_names)\n",
    "\n",
    "    # Create a new list with fixed column names\n",
    "    df_names_fixed = df_names_to_fix.fillna('unnamed:' + (df_names_to_fix.groupby(df_names_to_fix.isnull()).cumcount() + 1).astype(str))\n",
    "\n",
    "    return df_names_fixed\n",
    "\n",
    "def clean_dataframe(df_input):\n",
    "    # Create a copy to work on of the dataframe\n",
    "    df = df_input.copy()\n",
    "    \n",
    "    # Delete the first 5 rows\n",
    "    df = df.iloc[5:]\n",
    "\n",
    "    # Set the column name to the first element of this new rows\n",
    "    df.columns = df.iloc[0]\n",
    "    \n",
    "    # Start the rows from the next one element \n",
    "    # since we choose 0 as the new column names\n",
    "    df = df[1:]\n",
    "    \n",
    "    # Create New Columns spliting the nested one \"Doc. de Identidad Municipio\" using regex\n",
    "    df[[\"PREFIX - Doc. de Identidad\", \"Doc. de Identidad\", \"Municipio\"]] = df[\"Doc. de Identidad Municipio\"]            .str.split(r\"\\b(\\d+)\", expand=True)\n",
    "\n",
    "    # Fill the nan column name as \"Mesa_Aux\"\n",
    "    \n",
    "    # List hte actual column names\n",
    "    df_names_to_fix = pd.Series(df.columns)\n",
    "\n",
    "    # Create a new list with fixed column names\n",
    "\n",
    "\n",
    "    # Set the new column names to the test dataframe\n",
    "    df.columns  = df_names_fixed\n",
    "\n",
    "\n",
    "    # Set the value from this \"Mesa_Aux\" to the \"Mesa\" column\n",
    "    df[\"Mesa\"] = df[\"Mesa_Aux\"]\n",
    "\n",
    "\n",
    "    # Drop Unused column names\n",
    "    df.drop(columns=[\"Doc. de Identidad Municipio\", \"Mesa_Aux\"], inplace=True)\n",
    "    \n",
    "    return df"
   ]
  },
  {
   "cell_type": "code",
   "execution_count": 73,
   "metadata": {},
   "outputs": [
    {
     "output_type": "execute_result",
     "data": {
      "text/plain": "5    N°            Apellidos y Nombres                            Recinto  \\\n6   181     ACUÑA FERNANDEZ  CRISTHIAN            U.E. República de Japón   \n7   182                   ACUÑA  GILKA               Col. Jhon F. Keneddy   \n8   183  ACUÑA PEÑALOZA  LUIS FERNANDO                        Esc. Panama   \n9   184         ACUÑA QUISPE  APOLINAR  U.E. Eliodoro Camacho de Mocomoco   \n10  185    ACUÑA QUISPE  EDIZON CARLOS                  Esc. Pablo Iturri   \n\n5  Mesa PREFIX - Doc. de Identidad Doc. de Identidad  \\\n6   NaN                        I             9916784   \n7   NaN                        I            11102150   \n8   NaN                        I             4925538   \n9   NaN                        I             6108842   \n10  NaN                        I             9130520   \n\n5                   Municipio  \n6                      Viacha  \n7                    Caranavi  \n8    Nuestra Señora de La Paz  \n9                    Mocomoco  \n10   Nuestra Señora de La Paz  ",
      "text/html": "<div>\n<style scoped>\n    .dataframe tbody tr th:only-of-type {\n        vertical-align: middle;\n    }\n\n    .dataframe tbody tr th {\n        vertical-align: top;\n    }\n\n    .dataframe thead th {\n        text-align: right;\n    }\n</style>\n<table border=\"1\" class=\"dataframe\">\n  <thead>\n    <tr style=\"text-align: right;\">\n      <th>5</th>\n      <th>N°</th>\n      <th>Apellidos y Nombres</th>\n      <th>Recinto</th>\n      <th>Mesa</th>\n      <th>PREFIX - Doc. de Identidad</th>\n      <th>Doc. de Identidad</th>\n      <th>Municipio</th>\n    </tr>\n  </thead>\n  <tbody>\n    <tr>\n      <th>6</th>\n      <td>181</td>\n      <td>ACUÑA FERNANDEZ  CRISTHIAN</td>\n      <td>U.E. República de Japón</td>\n      <td>NaN</td>\n      <td>I</td>\n      <td>9916784</td>\n      <td>Viacha</td>\n    </tr>\n    <tr>\n      <th>7</th>\n      <td>182</td>\n      <td>ACUÑA  GILKA</td>\n      <td>Col. Jhon F. Keneddy</td>\n      <td>NaN</td>\n      <td>I</td>\n      <td>11102150</td>\n      <td>Caranavi</td>\n    </tr>\n    <tr>\n      <th>8</th>\n      <td>183</td>\n      <td>ACUÑA PEÑALOZA  LUIS FERNANDO</td>\n      <td>Esc. Panama</td>\n      <td>NaN</td>\n      <td>I</td>\n      <td>4925538</td>\n      <td>Nuestra Señora de La Paz</td>\n    </tr>\n    <tr>\n      <th>9</th>\n      <td>184</td>\n      <td>ACUÑA QUISPE  APOLINAR</td>\n      <td>U.E. Eliodoro Camacho de Mocomoco</td>\n      <td>NaN</td>\n      <td>I</td>\n      <td>6108842</td>\n      <td>Mocomoco</td>\n    </tr>\n    <tr>\n      <th>10</th>\n      <td>185</td>\n      <td>ACUÑA QUISPE  EDIZON CARLOS</td>\n      <td>Esc. Pablo Iturri</td>\n      <td>NaN</td>\n      <td>I</td>\n      <td>9130520</td>\n      <td>Nuestra Señora de La Paz</td>\n    </tr>\n  </tbody>\n</table>\n</div>"
     },
     "metadata": {},
     "execution_count": 73
    }
   ],
   "source": [
    "\n",
    "df_clean = clean_dataframe(dfs[10])\n",
    "df_clean.head()"
   ]
  }
 ]
}